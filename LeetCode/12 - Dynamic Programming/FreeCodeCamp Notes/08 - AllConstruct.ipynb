{
 "cells": [
  {
   "cell_type": "markdown",
   "metadata": {},
   "source": [
    "# 8 - AllConstruct Memoisation"
   ]
  },
  {
   "cell_type": "markdown",
   "metadata": {},
   "source": [
    "Write a function `allConstruct(target, wordBank)` that takes in a taget string and a list of strings. Return all the combinations of strings in the `wordBank` array that can be concatenated to create the `target` string. You may use an element of the array as many times as needed.\n",
    "\n",
    "Examples:\n",
    "```\n",
    "allConstruct('purple', ['purp', 'p', 'ur', 'le', 'purpl']) \n",
    "    --> [\n",
    "            ['purp', 'le'], \n",
    "            ['p', 'ur', 'p', 'le]\n",
    "        ]\n",
    "        \n",
    "allConstruct('abcdef', ['ab', 'abc', 'cd', 'def', 'abcd', 'ef', 'c'])\n",
    "    --> [\n",
    "            ['ab', 'cd', 'ef'],\n",
    "            ['ab', 'c', 'def'],\n",
    "            ['abc', 'def'],\n",
    "            ['abcd', 'ef']\n",
    "        ]\n",
    "```"
   ]
  },
  {
   "cell_type": "markdown",
   "metadata": {},
   "source": [
    "### Recursive Solution\n",
    "\n",
    "- m = len(target)\n",
    "- n = len(wordBank)\n",
    "- time: $O(n^m)$\n",
    "- space: $O(m)$"
   ]
  },
  {
   "cell_type": "code",
   "execution_count": 1,
   "metadata": {},
   "outputs": [],
   "source": [
    "from typing import List, Dict, Tuple, Optional"
   ]
  },
  {
   "cell_type": "code",
   "execution_count": 4,
   "metadata": {},
   "outputs": [
    {
     "data": {
      "text/plain": [
       "[['le', 'purp'], ['le', 'p', 'ur', 'p']]"
      ]
     },
     "execution_count": 4,
     "metadata": {},
     "output_type": "execute_result"
    }
   ],
   "source": [
    "def allConstruct(target: str, wordBank: List[str]) -> List[List[str]]:\n",
    "    if target == \"\":\n",
    "        return [[]]\n",
    "    \n",
    "    cumulative: List[List[str]] = []\n",
    "    for word in wordBank:\n",
    "        index: int = target.find(word)\n",
    "        if index != 0:\n",
    "            continue\n",
    "        n: int = len(word)\n",
    "        result = allConstruct(target[n:], wordBank)\n",
    "        for lst in result:\n",
    "            lst.append(word)\n",
    "        cumulative += result\n",
    "    return cumulative\n",
    "\n",
    "allConstruct('purple', ['purp', 'p', 'ur', 'le', 'purpl']) "
   ]
  }
 ],
 "metadata": {
  "kernelspec": {
   "display_name": "base",
   "language": "python",
   "name": "python3"
  },
  "language_info": {
   "codemirror_mode": {
    "name": "ipython",
    "version": 3
   },
   "file_extension": ".py",
   "mimetype": "text/x-python",
   "name": "python",
   "nbconvert_exporter": "python",
   "pygments_lexer": "ipython3",
   "version": "3.10.10"
  },
  "orig_nbformat": 4
 },
 "nbformat": 4,
 "nbformat_minor": 2
}
