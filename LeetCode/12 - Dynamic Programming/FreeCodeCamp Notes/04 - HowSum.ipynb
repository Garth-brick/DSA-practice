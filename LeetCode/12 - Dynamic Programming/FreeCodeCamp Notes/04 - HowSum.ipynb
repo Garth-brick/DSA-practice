{
 "cells": [
  {
   "cell_type": "markdown",
   "metadata": {},
   "source": [
    "# 4 - HowSum Memoisation"
   ]
  },
  {
   "cell_type": "markdown",
   "metadata": {},
   "source": [
    "### Question\n",
    "Write a function `howSum(nums, targetSum)` which returns a list of any combination of elements from `nums` such that they sum up to the given `targetSum`. You are allowed to repeat numbers. If multiple combinations exist then return any one. If there is no valid combination then return `null`."
   ]
  },
  {
   "cell_type": "markdown",
   "metadata": {},
   "source": [
    "Examples:\n",
    "```\n",
    "howSum([5,3,4,7], 7) --> [3,4] or [7]\n",
    "howSum([2,3,5], 8)   --> [2,2,2,2] or [2,3,3] or [3,5]\n",
    "howSum([2,4], 7)     --> null\n",
    "howSum([1,2,3], 0)   --> []\n",
    "```"
   ]
  },
  {
   "cell_type": "markdown",
   "metadata": {},
   "source": [
    "### Recursive brute force solution\n",
    "- m = target sum\n",
    "- n = size of array\n",
    "- time: `O(n^m)` because we have a tree of depth `m` with each node having `n` children\n",
    "- space: `O(m)` because we can have a maximum of `m` nodes"
   ]
  },
  {
   "cell_type": "code",
   "execution_count": 1,
   "metadata": {},
   "outputs": [],
   "source": [
    "from typing import List, Dict, Set, Tuple, Optional"
   ]
  },
  {
   "cell_type": "code",
   "execution_count": 26,
   "metadata": {},
   "outputs": [
    {
     "name": "stdout",
     "output_type": "stream",
     "text": [
      "[2, 3, 3]\n"
     ]
    }
   ],
   "source": [
    "def howSum(nums: List[int], targetSum: int) -> Optional[List[int]]:\n",
    "    if targetSum == 0:\n",
    "        return []\n",
    "    if targetSum < 0:\n",
    "        return None\n",
    "    \n",
    "    for num in nums:\n",
    "        result = howSum(nums, targetSum - num)\n",
    "        if result is not None:\n",
    "            return result + [num]\n",
    "    return None\n",
    "        \n",
    "    \n",
    "print(howSum([3,2,5], 8))"
   ]
  },
  {
   "cell_type": "markdown",
   "metadata": {},
   "source": [
    "### Using memoisation\n",
    "- m = target num\n",
    "- n = size of array\n",
    "- time: `O(m * n)`\n",
    "- space: `O(m * m)` because most of our space is taken by the memo object which can have a max of `m` keys and each key and have a list of max size `m`."
   ]
  },
  {
   "cell_type": "code",
   "execution_count": 41,
   "metadata": {},
   "outputs": [
    {
     "name": "stdout",
     "output_type": "stream",
     "text": [
      "[7, 7, 7, 7, 7, 7, 7, 7, 7, 7, 7, 7, 7, 7, 7, 7, 7, 7, 7, 7, 7, 7, 7, 7, 7, 7, 7, 7, 7, 7, 7, 7, 7, 7, 7, 7, 7, 7, 7, 7, 7, 7, 7]\n"
     ]
    }
   ],
   "source": [
    "def howSum(nums: List[int], targetSum, memo: Dict[int, Optional[List[int]]]=dict()) -> Optional[List[int]]:\n",
    "    if targetSum == 0:\n",
    "        return []\n",
    "    if targetSum < 0:\n",
    "        return None\n",
    "    if targetSum in memo:\n",
    "        return memo[targetSum]\n",
    "    \n",
    "    for num in nums:\n",
    "        result = howSum(nums, targetSum - num)\n",
    "        if result is None:  \n",
    "            continue\n",
    "        result.append(num)\n",
    "        memo[targetSum] = result \n",
    "        return result\n",
    "    memo[targetSum] = None\n",
    "    return None\n",
    "        \n",
    "print(howSum([7,14], 301))"
   ]
  }
 ],
 "metadata": {
  "kernelspec": {
   "display_name": "base",
   "language": "python",
   "name": "python3"
  },
  "language_info": {
   "codemirror_mode": {
    "name": "ipython",
    "version": 3
   },
   "file_extension": ".py",
   "mimetype": "text/x-python",
   "name": "python",
   "nbconvert_exporter": "python",
   "pygments_lexer": "ipython3",
   "version": "3.10.10"
  },
  "orig_nbformat": 4
 },
 "nbformat": 4,
 "nbformat_minor": 2
}
