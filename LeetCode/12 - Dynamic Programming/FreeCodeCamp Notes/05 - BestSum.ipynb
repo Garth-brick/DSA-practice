{
 "cells": [
  {
   "cell_type": "markdown",
   "metadata": {},
   "source": [
    "# BestSum Memoisation"
   ]
  },
  {
   "cell_type": "markdown",
   "metadata": {},
   "source": [
    "### Question\n",
    "\n",
    "Write a `bestSum(nums, targetSum)` function which takes an array `nums` and a number `targetSum` as the input and returns the shortest combination of elements from the `nums` array that sums up to the given target value. Use a number as many times as needed. Return `null` if no such combination exists. Return an empty array for `targetSum=0`. If there is more than one viable candidate for being the shortest valid combination then return any one."
   ]
  },
  {
   "cell_type": "markdown",
   "metadata": {},
   "source": [
    "### Recusive Brute Force Solution\n",
    "\n",
    "- m = targetSum\n",
    "- n = size of array\n",
    "- We have a maximum of `m` levels and at each level our number of nodes gets multiplied by `n` because each node has `n` in the next level\n",
    "- time: `O(n^m)`\n",
    "- space: `O(m * m)`\n",
    "- Every recursive call will need to have its own `shortestResult` array which can be of size `m` and we can have a maximum of `m` recursive calls on the call stack at a given time (which is the height of the tree)."
   ]
  },
  {
   "cell_type": "code",
   "execution_count": 2,
   "metadata": {},
   "outputs": [],
   "source": [
    "from typing import Dict, List, Set, Tuple, Optional"
   ]
  },
  {
   "cell_type": "code",
   "execution_count": 3,
   "metadata": {},
   "outputs": [
    {
     "data": {
      "text/plain": [
       "[4, 4]"
      ]
     },
     "execution_count": 3,
     "metadata": {},
     "output_type": "execute_result"
    }
   ],
   "source": [
    "def bestSum(nums: List[int], targetSum: int) -> Optional[List[int]]:\n",
    "    if targetSum == 0:\n",
    "        return []\n",
    "    if targetSum < 0:\n",
    "        return None\n",
    "    \n",
    "    shortestResult: Optional[List[int]] = None\n",
    "    for num in nums:\n",
    "        result = bestSum(nums, targetSum - num)\n",
    "        if result is None:\n",
    "            continue\n",
    "        result.append(num)\n",
    "        if shortestResult is None or len(result) < len(shortestResult):\n",
    "            shortestResult = result\n",
    "    return shortestResult\n",
    "\n",
    "bestSum([1,4,5], 8)"
   ]
  },
  {
   "cell_type": "markdown",
   "metadata": {},
   "source": [
    "### Using Memoisation\n",
    "\n",
    "- Note that since we are storing lists in our memo dictionary, we must make sure to create a copy of the result we recieve before we edit it. Otherwise, if we recieve a list from our memo and then edit that list then the value inside memo will get edited simultaneously.\n",
    "- m = targetSum\n",
    "- n = size of array\n",
    "- We will never have traverse the same node twice in our tree now, we we can have a maximum of `m` nodes with each node still having `n` children. Also, we might have to copy our entire array of size `m` each time we go down an edge.\n",
    "- time: `O(m*n * m)`\n",
    "- space: `O(m * m)`"
   ]
  },
  {
   "cell_type": "code",
   "execution_count": 6,
   "metadata": {},
   "outputs": [
    {
     "data": {
      "text/plain": [
       "[25, 25, 25, 25]"
      ]
     },
     "execution_count": 6,
     "metadata": {},
     "output_type": "execute_result"
    }
   ],
   "source": [
    "def bestSum(nums: List[int], target: int, memo: Dict[int, Optional[List[int]]]=dict()) -> Optional[List[int]]:\n",
    "    if target < 0:\n",
    "        return None\n",
    "    if target == 0:\n",
    "        return []\n",
    "    if target in memo:\n",
    "        return memo[target]\n",
    "    \n",
    "    shortest: Optional[List[int]] = None\n",
    "\n",
    "    for num in nums:\n",
    "        result: Optional[List[int]] = bestSum(nums, target - num, memo)\n",
    "        if result is None:\n",
    "            continue\n",
    "        # result.append(num) --> appending to the list would mean that the list within the memo also gets appended to\n",
    "        # so we create a copy of the result and then add to the copy instead\n",
    "        if shortest is None or len(result) < len(shortest):\n",
    "            shortest = result[:] # creates a copy of the result array\n",
    "            shortest.append(num)\n",
    "    memo[target] = shortest\n",
    "    return shortest\n",
    "\n",
    "bestSum([1,4,5,25], 100)"
   ]
  }
 ],
 "metadata": {
  "kernelspec": {
   "display_name": "base",
   "language": "python",
   "name": "python3"
  },
  "language_info": {
   "codemirror_mode": {
    "name": "ipython",
    "version": 3
   },
   "file_extension": ".py",
   "mimetype": "text/x-python",
   "name": "python",
   "nbconvert_exporter": "python",
   "pygments_lexer": "ipython3",
   "version": "3.10.10"
  },
  "orig_nbformat": 4
 },
 "nbformat": 4,
 "nbformat_minor": 2
}
