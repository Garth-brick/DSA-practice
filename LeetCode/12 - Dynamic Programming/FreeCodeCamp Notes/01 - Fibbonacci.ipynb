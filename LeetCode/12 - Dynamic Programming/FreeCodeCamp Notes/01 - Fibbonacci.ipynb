{
 "cells": [
  {
   "cell_type": "markdown",
   "metadata": {},
   "source": [
    "# 1 - Fib Memoization"
   ]
  },
  {
   "cell_type": "markdown",
   "metadata": {},
   "source": [
    "#### Q. What is Dynamic Programming?\n",
    "Dynamic Programming is any instance where we solve a larger problem by decomposing it into smaller instances of the same problem with an overlapping structure between the subproblems."
   ]
  },
  {
   "cell_type": "markdown",
   "metadata": {},
   "source": [
    "#### Q. Write a function `fib(n)` that takes in a number as an argument. The function should return the n<sup>th</sup> number of the Fibonacci sequence as follows:\n",
    "Example:\n",
    "```\n",
    "n:      1 2 3 4 5 6\n",
    "fib(n): 1 1 2 3 5 8\n",
    "```"
   ]
  },
  {
   "cell_type": "code",
   "execution_count": 4,
   "metadata": {},
   "outputs": [],
   "source": [
    "from typing import Dict, Set, List, Optional"
   ]
  },
  {
   "cell_type": "markdown",
   "metadata": {},
   "source": [
    "##### A1. A basic recursive implemenation"
   ]
  },
  {
   "cell_type": "code",
   "execution_count": 5,
   "metadata": {},
   "outputs": [],
   "source": [
    "def fib(n: int) -> int:\n",
    "    if n == 1 or n == 2:\n",
    "        return 1\n",
    "    return fib(n - 1) + fib(n - 2)"
   ]
  },
  {
   "cell_type": "markdown",
   "metadata": {},
   "source": [
    "But finding larger fibonacci numbers still takes way too long with this algorithm too. This is because our time complexity right now is `O(2^n)` and that's our limiting factor."
   ]
  },
  {
   "cell_type": "code",
   "execution_count": 6,
   "metadata": {},
   "outputs": [],
   "source": [
    "# print(fib(50))"
   ]
  },
  {
   "cell_type": "markdown",
   "metadata": {},
   "source": [
    "##### A2. Implementation with memoisation"
   ]
  },
  {
   "cell_type": "code",
   "execution_count": 7,
   "metadata": {},
   "outputs": [],
   "source": [
    "def fibWithMemo(n: int, memo: Dict[int, int] = dict()) -> int:\n",
    "    if n <= 2:\n",
    "        return 1\n",
    "    if n in memo:\n",
    "        return memo[n]\n",
    "    memo[n] = fibWithMemo(n-1, memo) + fibWithMemo(n-2, memo)\n",
    "    return memo[n]"
   ]
  },
  {
   "cell_type": "markdown",
   "metadata": {},
   "source": [
    "This algorithm can handle a lot bigger fibonacci numbers in a reasonable amount of time now!\n",
    "Although we have come to a time complexity of `O(n)` from `O(2^n)` it still does take `O(n)` memory"
   ]
  },
  {
   "cell_type": "code",
   "execution_count": 8,
   "metadata": {},
   "outputs": [
    {
     "name": "stdout",
     "output_type": "stream",
     "text": [
      "12586269025\n"
     ]
    }
   ],
   "source": [
    "print(fibWithMemo(50))"
   ]
  },
  {
   "cell_type": "markdown",
   "metadata": {},
   "source": [
    "##### A3. Two variable implementation - we don't actually need to store all the values, we can just store the previous two values instead"
   ]
  },
  {
   "cell_type": "code",
   "execution_count": null,
   "metadata": {},
   "outputs": [],
   "source": [
    "def fibWithTwoVariables(n: int):\n",
    "    prevprev: int = 1\n",
    "    prev: int = 1\n",
    "    result: int = 1\n",
    "    for _ in range(n):\n",
    "        result = prev + prevprev\n",
    "        prevprev = prev\n",
    "        prev = result\n",
    "    return result"
   ]
  }
 ],
 "metadata": {
  "kernelspec": {
   "display_name": "base",
   "language": "python",
   "name": "python3"
  },
  "language_info": {
   "codemirror_mode": {
    "name": "ipython",
    "version": 3
   },
   "file_extension": ".py",
   "mimetype": "text/x-python",
   "name": "python",
   "nbconvert_exporter": "python",
   "pygments_lexer": "ipython3",
   "version": "3.10.10"
  },
  "orig_nbformat": 4
 },
 "nbformat": 4,
 "nbformat_minor": 2
}
