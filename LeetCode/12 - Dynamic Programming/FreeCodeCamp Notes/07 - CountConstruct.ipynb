{
 "cells": [
  {
   "cell_type": "markdown",
   "metadata": {},
   "source": [
    "# 7 - CountConstruct Memoisation\n",
    "\n"
   ]
  },
  {
   "cell_type": "markdown",
   "metadata": {},
   "source": [
    "Write a function `countConstruct(target, wordBank)` that takes in a `target` string and an array of strings. It returns the number of ways in which the `target` string can be constructed by concatenating elements of the `wordBank` array. You can resuse elements as many times as needed.\n",
    "\n",
    "Examples:\n",
    "```\n",
    "countConstruct('abcdef', ['ab', 'abc', 'cd', 'def', 'abcd']) --> 1\n",
    "countConstruct('purple', ['purp', 'p', 'ur', 'le', 'purpl']) --> 2\n",
    "```"
   ]
  },
  {
   "cell_type": "markdown",
   "metadata": {},
   "source": [
    "### Plain Recursive Solution"
   ]
  },
  {
   "cell_type": "markdown",
   "metadata": {},
   "source": [
    "- m = len(target)\n",
    "- n = len(wordBank)\n",
    "- We will have an `n`-ary tree of height `m`\n",
    "- Finding the index of a word in the target is also an `O(m)` operation since we could potentially have to go over every character in the target string\n",
    "- In the worst case we'd have `m` functions on the call stack (the height of the tree)\n",
    "- Slicing our string will create an `O(m)` memory as well\n",
    "- time: $O(n^m \\times m)$\n",
    "- space: $O(m^2)$"
   ]
  },
  {
   "cell_type": "code",
   "execution_count": 1,
   "metadata": {},
   "outputs": [],
   "source": [
    "from typing import List, Dict, Tuple, Optional"
   ]
  },
  {
   "cell_type": "code",
   "execution_count": 2,
   "metadata": {},
   "outputs": [
    {
     "data": {
      "text/plain": [
       "2"
      ]
     },
     "execution_count": 2,
     "metadata": {},
     "output_type": "execute_result"
    }
   ],
   "source": [
    "def countConstruct(target: str, wordBank: List[str]) -> int:\n",
    "    if not target:\n",
    "        return 1\n",
    "    \n",
    "    result = 0\n",
    "    for word in wordBank:\n",
    "        index = target.find(word)\n",
    "        if index != 0:\n",
    "            continue\n",
    "        result += countConstruct(target[len(word):], wordBank)\n",
    "    return result\n",
    "\n",
    "countConstruct('purple', ['purp', 'p', 'ur', 'le', 'purpl'])"
   ]
  },
  {
   "cell_type": "markdown",
   "metadata": {},
   "source": [
    "### Using Memoisation\n",
    "\n",
    "- We can reduce the exponantial time complexity of the recursive solution to a polynomial time complexity now\n",
    "- In the worst case we would have to check all `n` words for each of the `m` letters and finding the index would still be an `O(m)` operation each time we did this.\n",
    "- time: $O(m \\times n \\times m)$\n",
    "- space: $O(m^2)$"
   ]
  },
  {
   "cell_type": "code",
   "execution_count": 7,
   "metadata": {},
   "outputs": [
    {
     "data": {
      "text/plain": [
       "0"
      ]
     },
     "execution_count": 7,
     "metadata": {},
     "output_type": "execute_result"
    }
   ],
   "source": [
    "def countConstruct(target: str, wordBank: List[str], memo: Dict[str, int]=dict()) -> int:\n",
    "    if not target:\n",
    "        return 1\n",
    "    elif target in memo:\n",
    "        return memo[target]\n",
    "    \n",
    "    result = 0\n",
    "    for word in wordBank:\n",
    "        index = target.find(word)\n",
    "        if index != 0:\n",
    "            continue\n",
    "        result += countConstruct(target[len(word):], wordBank, memo)\n",
    "    memo[target] = result\n",
    "    return result\n",
    "\n",
    "countConstruct('eeeeeeeeeeeeeeeeeeeeeeeeeeeeeeeeeeeeeeeeeeeeeeeeeeeeeef', ['e', 'ee', 'eee', 'eeee', 'eeeeee'])"
   ]
  }
 ],
 "metadata": {
  "kernelspec": {
   "display_name": "base",
   "language": "python",
   "name": "python3"
  },
  "language_info": {
   "codemirror_mode": {
    "name": "ipython",
    "version": 3
   },
   "file_extension": ".py",
   "mimetype": "text/x-python",
   "name": "python",
   "nbconvert_exporter": "python",
   "pygments_lexer": "ipython3",
   "version": "3.10.10"
  },
  "orig_nbformat": 4
 },
 "nbformat": 4,
 "nbformat_minor": 2
}
