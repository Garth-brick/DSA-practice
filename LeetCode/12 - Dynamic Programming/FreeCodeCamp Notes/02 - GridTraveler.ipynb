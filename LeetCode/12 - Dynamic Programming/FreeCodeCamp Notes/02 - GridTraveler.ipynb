{
 "cells": [
  {
   "cell_type": "markdown",
   "metadata": {},
   "source": [
    "# 2 - Grid-Traveler Memoisation"
   ]
  },
  {
   "cell_type": "markdown",
   "metadata": {},
   "source": [
    "#### Q. If you can only move down or right on a grid with m rows and n columns then in how many ways can you reach the bottom-right corner after starting from the top-right corner?"
   ]
  },
  {
   "cell_type": "markdown",
   "metadata": {},
   "source": [
    "Examples:\n",
    "```\n",
    "gridtraveler(m=2, n=3) --> 3\n",
    "gridTraveler(m=1, n=1) --> 1\n",
    "gridTraveler(m=0, n)   --> 0\n",
    "```"
   ]
  },
  {
   "cell_type": "markdown",
   "metadata": {},
   "source": [
    "NOTES\n",
    "- At every given state, we have two options, either travel down or travel right.\n",
    "- If we travel downward then the number of rows decreases by 1.\n",
    "- If we travel rightward then the number of columns decreases by 1.\n",
    "- If we have only one row and one column then we have reached our goal.\n",
    "- We can stop traversing if there are no columns or rows left.\n",
    "- Order doesn't matter, i.e. `gridTraveler(a,b) == gridTraveler(b,a)`"
   ]
  },
  {
   "cell_type": "code",
   "execution_count": null,
   "metadata": {},
   "outputs": [],
   "source": [
    "from typing import Dict, Tuple"
   ]
  },
  {
   "cell_type": "markdown",
   "metadata": {},
   "source": [
    "A brute force solution which works, although it does a lot of redundant calculations"
   ]
  },
  {
   "cell_type": "code",
   "execution_count": null,
   "metadata": {},
   "outputs": [],
   "source": [
    "def gridTravelerBrute(m: int, n: int):\n",
    "    if (m,n) == (1,1):\n",
    "        return 1\n",
    "    if m > n:\n",
    "        m, n = n, m\n",
    "    if m <= 0:\n",
    "        return 0\n",
    "    return gridTravelerBrute(m-1, n) + gridTravelerBrute(m,n-1)"
   ]
  },
  {
   "cell_type": "code",
   "execution_count": null,
   "metadata": {},
   "outputs": [],
   "source": [
    "gridTravelerBrute(2,3)"
   ]
  },
  {
   "cell_type": "markdown",
   "metadata": {},
   "source": [
    "Solution using memoisation"
   ]
  },
  {
   "cell_type": "code",
   "execution_count": null,
   "metadata": {},
   "outputs": [],
   "source": [
    "def gridTraveler(m: int, n: int, memo: Dict[Tuple[int, int], int]=dict()) -> int:\n",
    "    # making sure that m is lesser number\n",
    "    if m > n:\n",
    "        m, n = n, m\n",
    "    if (m, n) in memo:\n",
    "        return memo[(m,n)]\n",
    "    if m <= 0 or n <= 0:\n",
    "        return 0\n",
    "    if (m, n) == (1, 1):\n",
    "        return 1\n",
    "    memo[(m,n)] = gridTraveler(m-1, n, memo) + gridTraveler(m, n-1)\n",
    "    return memo[(m,n)]"
   ]
  },
  {
   "cell_type": "markdown",
   "metadata": {},
   "source": [
    "## Tabulation"
   ]
  },
  {
   "cell_type": "markdown",
   "metadata": {},
   "source": [
    "- Create an `m+1` X `n+1` grid and initialise it with 1s\n",
    "- Set `table[1][1] = 1` because there is only one way to travel for a single row and column\n",
    "- Going from left to right and top to bottom, add the value of each cell to the cells on its right and bottom ⟶ we do this because if there are x ways to reach a cell then we can reach the cells on its right and bottom by that many number of ways as well.\n",
    "\n",
    "COMPLEXITY:\n",
    "- time: $O(n^2)$\n",
    "- space: $O(n^2)$"
   ]
  },
  {
   "cell_type": "code",
   "execution_count": 11,
   "metadata": {},
   "outputs": [],
   "source": [
    "def gridTravelerTab(m: int, n: int):\n",
    "    table = [[0] * (n + 1) for _ in range(m + 1)]\n",
    "    table[1][1] = 1\n",
    "    for r in range(m + 1):\n",
    "        for c in range(n + 1):\n",
    "            if r in range(m):\n",
    "                table[r + 1][c] += table[r][c]\n",
    "            if c in range(n):\n",
    "                table[r][c + 1] += table[r][c]\n",
    "        # print(table)\n",
    "    return table[m][n]"
   ]
  },
  {
   "cell_type": "code",
   "execution_count": 12,
   "metadata": {},
   "outputs": [
    {
     "name": "stdout",
     "output_type": "stream",
     "text": [
      "6\n"
     ]
    }
   ],
   "source": [
    "print(gridTravelerTab(3,3))"
   ]
  },
  {
   "cell_type": "markdown",
   "metadata": {},
   "source": [
    "# Tabulation Recipe\n",
    "\n",
    "- Visualise the problem as a table\n",
    "- Figure out the size based on the inputs\n",
    "- Initialise the table with some values\n",
    "- Choose a seed valeu for a trivial answer to the table\n",
    "- Come up with some logic to fill further positions of the table based on the current position"
   ]
  }
 ],
 "metadata": {
  "kernelspec": {
   "display_name": "base",
   "language": "python",
   "name": "python3"
  },
  "language_info": {
   "codemirror_mode": {
    "name": "ipython",
    "version": 3
   },
   "file_extension": ".py",
   "mimetype": "text/x-python",
   "name": "python",
   "nbconvert_exporter": "python",
   "pygments_lexer": "ipython3",
   "version": "3.10.10"
  },
  "orig_nbformat": 4
 },
 "nbformat": 4,
 "nbformat_minor": 2
}
