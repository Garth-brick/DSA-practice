{
 "cells": [
  {
   "cell_type": "markdown",
   "metadata": {},
   "source": [
    "# CanConstruct Memoisation"
   ]
  },
  {
   "cell_type": "markdown",
   "metadata": {},
   "source": [
    "### Question\n",
    "Write a function `canConstruct(target: str, wordBank: List[str]) -> bool` to check if the target string can be constrcuted by concatenating the strings in the given `wordBank`. Strings in the array are reusable. Empty strings are always possible to construct with an empty array.\n",
    "\n",
    "Examples:\n",
    "```\n",
    "canConstruct(\"skateboard\", [\"sk\", \"ska\", \"ate\", \"t\",\"bo\", \"boar\", \"rd\"]) --> False\n",
    "canConstruct(\"\", [\"ab\", \"cd\"]) --> True\n",
    "canConstruct(\"abcdef\", [\"ab\", \"abc\", \"cd\", \"def\", \"abcd\"]) --> True\n",
    "```"
   ]
  },
  {
   "cell_type": "markdown",
   "metadata": {},
   "source": [
    "### Recursive solution"
   ]
  },
  {
   "cell_type": "code",
   "execution_count": 2,
   "metadata": {},
   "outputs": [],
   "source": [
    "from typing import List, Dict"
   ]
  },
  {
   "cell_type": "code",
   "execution_count": 8,
   "metadata": {},
   "outputs": [
    {
     "data": {
      "text/plain": [
       "True"
      ]
     },
     "execution_count": 8,
     "metadata": {},
     "output_type": "execute_result"
    }
   ],
   "source": [
    "def canConstruct(target: str, wordBank: List[str]) -> bool:\n",
    "    \n",
    "    if not target:\n",
    "        return True\n",
    "    \n",
    "    for word in wordBank:\n",
    "        index = target.find(word)\n",
    "        if index != 0:\n",
    "            continue\n",
    "        n = len(word)\n",
    "        if canConstruct(target[n:], wordBank):\n",
    "            return True\n",
    "    return False\n",
    "\n",
    "canConstruct(\"abcdef\", [\"ab\", \"abc\", \"cd\", \"def\", \"abcd\"])"
   ]
  },
  {
   "cell_type": "markdown",
   "metadata": {},
   "source": [
    "### Using Memoisation"
   ]
  },
  {
   "cell_type": "code",
   "execution_count": 18,
   "metadata": {},
   "outputs": [
    {
     "data": {
      "text/plain": [
       "True"
      ]
     },
     "execution_count": 18,
     "metadata": {},
     "output_type": "execute_result"
    }
   ],
   "source": [
    "def startsWith(word: str, prefix: str) -> bool:\n",
    "    if len(word) < len(prefix):\n",
    "        return False\n",
    "    for i in range(len(prefix)):\n",
    "        if prefix[i] != word[i]:\n",
    "            return False\n",
    "    return True\n",
    "\n",
    "def canConstruct(target: str, wordBank: List[str], memo: Dict[str, bool]=dict()) -> bool:\n",
    "    if not target:\n",
    "        return True\n",
    "    if target in memo:\n",
    "        return memo[target]\n",
    "    \n",
    "    for word in wordBank:\n",
    "        if not startsWith(target, word):\n",
    "            continue\n",
    "        n = len(word)\n",
    "        if canConstruct(target[n:], wordBank, memo):\n",
    "            memo[target] = True\n",
    "            return True\n",
    "        \n",
    "    memo[target] = False\n",
    "    return False\n",
    "canConstruct(\"eeeeeeeeeeeeeeeeeeeeeeeeeeeeeeeeeeeeeeeeeeeeeeeeeeeeeeeeeeeeef\", [\"e\", \"ee\", \"eee\", \"eeee\", \"eeeeee\"])"
   ]
  }
 ],
 "metadata": {
  "kernelspec": {
   "display_name": "base",
   "language": "python",
   "name": "python3"
  },
  "language_info": {
   "codemirror_mode": {
    "name": "ipython",
    "version": 3
   },
   "file_extension": ".py",
   "mimetype": "text/x-python",
   "name": "python",
   "nbconvert_exporter": "python",
   "pygments_lexer": "ipython3",
   "version": "3.10.10"
  },
  "orig_nbformat": 4
 },
 "nbformat": 4,
 "nbformat_minor": 2
}
