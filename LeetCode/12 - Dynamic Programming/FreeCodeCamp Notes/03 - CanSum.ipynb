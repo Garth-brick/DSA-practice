{
 "cells": [
  {
   "cell_type": "markdown",
   "metadata": {},
   "source": [
    "# CanSum Memoisation"
   ]
  },
  {
   "cell_type": "markdown",
   "metadata": {},
   "source": [
    "Q. Write a function `canSum(nums, targetSum)` that takes a number `targetSum` and an array `nums` and then returns a boolean value indicating whether it is possible for us to construct the target value by summing up numbers in the given array. You may use a number as many times as you want. You may assume all the numbers to be non-negative."
   ]
  },
  {
   "cell_type": "code",
   "execution_count": 2,
   "metadata": {},
   "outputs": [],
   "source": [
    "from typing import Dict, List, Set\n",
    "import math"
   ]
  },
  {
   "cell_type": "markdown",
   "metadata": {},
   "source": [
    "Brute force recursive solution\n",
    "\n",
    "- m = targetSum\n",
    "- n = size of array\n",
    "- time: `O(n^m)` because will be having a height of `m` and each node at each level will have `n` children\n",
    "- space: `O(m)`"
   ]
  },
  {
   "cell_type": "code",
   "execution_count": 3,
   "metadata": {},
   "outputs": [
    {
     "data": {
      "text/plain": [
       "True"
      ]
     },
     "execution_count": 3,
     "metadata": {},
     "output_type": "execute_result"
    }
   ],
   "source": [
    "def canSum(nums: List[int], targetSum: int) -> bool:\n",
    "    if targetSum < 0:\n",
    "        return False\n",
    "    if targetSum == 0:\n",
    "        return True\n",
    "    for num in nums:\n",
    "        if canSum(nums, targetSum - num):\n",
    "            return True\n",
    "    return False\n",
    "\n",
    "canSum([5,3,4], 7)"
   ]
  },
  {
   "cell_type": "markdown",
   "metadata": {},
   "source": [
    "Implementation with memoisation\n",
    "\n",
    "- m = targetSum\n",
    "- n = size of nums array\n",
    "- time: `O(m*n)` because there can be a max of `m` nodes and each one can have `n` children\n",
    "- space: `O(m)`"
   ]
  },
  {
   "cell_type": "code",
   "execution_count": 7,
   "metadata": {},
   "outputs": [
    {
     "data": {
      "text/plain": [
       "False"
      ]
     },
     "execution_count": 7,
     "metadata": {},
     "output_type": "execute_result"
    }
   ],
   "source": [
    "def canSumWithMemo(nums: List[int], targetSum: int, memo: Dict[int, bool]=dict()) -> int:\n",
    "    if targetSum < 0:\n",
    "        return False\n",
    "    if targetSum == 0:\n",
    "        return True\n",
    "    if targetSum in memo:\n",
    "        return memo[targetSum]\n",
    "    result = False\n",
    "    for num in nums:\n",
    "        if canSumWithMemo(nums, targetSum - num, memo):\n",
    "            result = True\n",
    "    memo[targetSum] = result\n",
    "    return result\n",
    "\n",
    "canSumWithMemo([7,14], 300)"
   ]
  },
  {
   "cell_type": "markdown",
   "metadata": {},
   "source": [
    "## Tabulation"
   ]
  },
  {
   "cell_type": "markdown",
   "metadata": {},
   "source": [
    "- Create an array of length `targetSum + 1`\n",
    "- Initialise each cell with `False`\n",
    "- Set `arr[0] = True`\n",
    "- For every cell that is true, make the cells that can be reached from it true as well\n",
    "\n",
    "COMPLEXITY:\n",
    "\n",
    "- m = targetSum\n",
    "- n = length of nums array\n",
    "- time: $O(m * n)$\n",
    "- space: $O(m)$"
   ]
  },
  {
   "cell_type": "code",
   "execution_count": null,
   "metadata": {},
   "outputs": [],
   "source": [
    "def canSumTabulation(nums: List[int], targetSum: int) -> bool:\n",
    "    "
   ]
  }
 ],
 "metadata": {
  "kernelspec": {
   "display_name": "base",
   "language": "python",
   "name": "python3"
  },
  "language_info": {
   "codemirror_mode": {
    "name": "ipython",
    "version": 3
   },
   "file_extension": ".py",
   "mimetype": "text/x-python",
   "name": "python",
   "nbconvert_exporter": "python",
   "pygments_lexer": "ipython3",
   "version": "3.10.10"
  },
  "orig_nbformat": 4
 },
 "nbformat": 4,
 "nbformat_minor": 2
}
