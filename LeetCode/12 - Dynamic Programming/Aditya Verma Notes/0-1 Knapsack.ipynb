{
 "cells": [
  {
   "cell_type": "markdown",
   "metadata": {},
   "source": [
    "# 0-1 Knapsack"
   ]
  },
  {
   "cell_type": "markdown",
   "metadata": {},
   "source": [
    "## Definition of the Problem\n",
    "\n",
    "- We have a bag that has a maximum weight capacity\n",
    "- We have some items that we can carry with given weights and values\n",
    "- We need to select items to maximise the value in our bag"
   ]
  },
  {
   "cell_type": "markdown",
   "metadata": {},
   "source": [
    "## Variants of Knapsack\n"
   ]
  },
  {
   "cell_type": "markdown",
   "metadata": {},
   "source": [
    "\n",
    "1. Fractional Knapsack:\n",
    "    - We are allowed to break items and take fractions of them\n",
    "    - This requires a greedy approach, not dynamic programming\n",
    "2. 01 Knapsack:\n",
    "    - We either take an item or don't take the item\n",
    "3. Bounded Knapsack:\n",
    "    - We need to select a specific number of items\n",
    "4. Unbounded Knapsack \n",
    "    - We can use unlimited instances of any item\n"
   ]
  },
  {
   "cell_type": "markdown",
   "metadata": {},
   "source": [
    "\n",
    "## Variants of 0-1 Knapsack\n"
   ]
  },
  {
   "cell_type": "markdown",
   "metadata": {},
   "source": [
    "\n",
    "1. Subset sum\n",
    "2. Equal sum partition\n",
    "3. Count of subset sum\n",
    "4. Minimum subset sum difference\n",
    "5. Target sum\n",
    "6. Number of subsets with a given difference"
   ]
  }
 ],
 "metadata": {
  "language_info": {
   "name": "python"
  }
 },
 "nbformat": 4,
 "nbformat_minor": 2
}
