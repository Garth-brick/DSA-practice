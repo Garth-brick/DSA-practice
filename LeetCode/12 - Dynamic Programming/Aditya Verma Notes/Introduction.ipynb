{
 "cells": [
  {
   "cell_type": "markdown",
   "metadata": {},
   "source": [
    "# Introduction"
   ]
  },
  {
   "cell_type": "markdown",
   "metadata": {},
   "source": [
    "## Types of Dynamic Programming Questions"
   ]
  },
  {
   "cell_type": "markdown",
   "metadata": {},
   "source": [
    "1. 0-1 Knapsack\n",
    "2. Unbounded Knapsack\n",
    "3. Fibonacci\n",
    "4. Longest common subsequence\n",
    "5. Longest increasing subsequence\n",
    "6. Kadane's algorithm\n",
    "7. Matrix chain multiplication\n",
    "8. Trees\n",
    "9. Grid\n",
    "10. Others"
   ]
  }
 ],
 "metadata": {
  "language_info": {
   "name": "python"
  }
 },
 "nbformat": 4,
 "nbformat_minor": 2
}
